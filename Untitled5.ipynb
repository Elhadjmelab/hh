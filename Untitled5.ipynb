{
 "cells": [
  {
   "cell_type": "code",
   "execution_count": 1,
   "id": "acf9a567-80d3-41ad-944f-c05c7e62fe81",
   "metadata": {},
   "outputs": [],
   "source": [
    "\n",
    "import os\n",
    "import tensorflow as tf\n",
    "import pandas as pd\n",
    "import numpy as np\n",
    "import seaborn as sns\n",
    "import matplotlib.pyplot as plt\n",
    "import cv2\n",
    "from tensorflow.keras.preprocessing.image import ImageDataGenerator\n",
    "from tensorflow.keras.preprocessing import image\n",
    "from sklearn.model_selection import train_test_split\n",
    "from keras import regularizers\n",
    "from keras.optimizers import Adam\n",
    "from sklearn.metrics import classification_report, confusion_matrix,ConfusionMatrixDisplay\n"
   ]
  },
  {
   "cell_type": "code",
   "execution_count": 2,
   "id": "70d70e52-14c7-4ea3-916e-0596529a166c",
   "metadata": {},
   "outputs": [],
   "source": [
    "img_path=\"C:\\\\Users\\\\Lenovo\\\\Desktop\\\\emo\\\\Anger\\\\Anger (2).jpg\"\n"
   ]
  },
  {
   "cell_type": "code",
   "execution_count": 3,
   "id": "c890e66e-a2ed-4b84-96ba-b7ddcd430eaf",
   "metadata": {},
   "outputs": [
    {
     "data": {
      "text/plain": [
       "array([[[ 72,  83,  87],\n",
       "        [ 72,  83,  87],\n",
       "        [ 72,  83,  87],\n",
       "        ...,\n",
       "        [ 74,  82,  81],\n",
       "        [ 76,  82,  81],\n",
       "        [ 76,  82,  81]],\n",
       "\n",
       "       [[ 72,  83,  87],\n",
       "        [ 72,  83,  87],\n",
       "        [ 72,  83,  87],\n",
       "        ...,\n",
       "        [ 74,  82,  81],\n",
       "        [ 76,  82,  81],\n",
       "        [ 76,  82,  81]],\n",
       "\n",
       "       [[ 72,  83,  87],\n",
       "        [ 72,  83,  87],\n",
       "        [ 72,  83,  87],\n",
       "        ...,\n",
       "        [ 74,  82,  81],\n",
       "        [ 74,  82,  81],\n",
       "        [ 74,  82,  81]],\n",
       "\n",
       "       ...,\n",
       "\n",
       "       [[143, 152, 162],\n",
       "        [143, 152, 162],\n",
       "        [143, 151, 164],\n",
       "        ...,\n",
       "        [ 44,  35,  32],\n",
       "        [ 20,  13,  10],\n",
       "        [ 38,  31,  28]],\n",
       "\n",
       "       [[141, 149, 162],\n",
       "        [142, 150, 163],\n",
       "        [142, 151, 161],\n",
       "        ...,\n",
       "        [ 74,  65,  62],\n",
       "        [ 60,  53,  50],\n",
       "        [ 36,  29,  26]],\n",
       "\n",
       "       [[142, 150, 163],\n",
       "        [143, 151, 164],\n",
       "        [143, 152, 162],\n",
       "        ...,\n",
       "        [ 51,  42,  39],\n",
       "        [ 41,  34,  31],\n",
       "        [ 54,  47,  44]]], dtype=uint8)"
      ]
     },
     "execution_count": 3,
     "metadata": {},
     "output_type": "execute_result"
    }
   ],
   "source": [
    "cv2.imread(img_path)\n"
   ]
  },
  {
   "cell_type": "code",
   "execution_count": 4,
   "id": "3feef517-f501-4428-b0a8-579f62db2470",
   "metadata": {},
   "outputs": [],
   "source": [
    "data_emo= ImageDataGenerator(rescale=1/255)"
   ]
  },
  {
   "cell_type": "code",
   "execution_count": 5,
   "id": "48498515-4436-4b14-a1e0-530b921e3dfb",
   "metadata": {},
   "outputs": [],
   "source": [
    "emo_classes=['Angry', 'Disgust', \"Fear\", \"Happy\", \"Neutral\", \"Sad\", \"Surprise\",\"Contempt\"]\n"
   ]
  },
  {
   "cell_type": "code",
   "execution_count": 6,
   "id": "d46b7f6e-d62f-4d18-aece-f08717382768",
   "metadata": {},
   "outputs": [],
   "source": [
    "s=1000"
   ]
  },
  {
   "cell_type": "code",
   "execution_count": null,
   "id": "807c49e9-7553-4745-9ea2-a32f8a4a5ca6",
   "metadata": {},
   "outputs": [
    {
     "name": "stdout",
     "output_type": "stream",
     "text": [
      "Found 152 images belonging to 8 classes.\n"
     ]
    }
   ],
   "source": [
    "dataset_emotions= data_emo.flow_from_directory(\"C:\\\\Users\\\\Lenovo\\\\Desktop\\\\emo\", target_size=(s,s), \n",
    "                                            batch_size=152 , class_mode=\"categorical\", color_mode= \"rgb\",\n",
    "                                                             shuffle=True)\n",
    "X_emo,y_emo= dataset_emotions.next()\n",
    "X_emo_train, X_emo_test, y_emo_train, y_emo_test= train_test_split(X_emo, y_emo, shuffle=True, \n",
    "                                                                               stratify=y_emo, test_size=0.3)\n",
    "\n"
   ]
  },
  {
   "cell_type": "code",
   "execution_count": null,
   "id": "d06c1811-2f82-427d-ad0e-88d63a00ec9e",
   "metadata": {},
   "outputs": [],
   "source": [
    "X_emo_test.shape\n"
   ]
  },
  {
   "cell_type": "code",
   "execution_count": null,
   "id": "b90b9b73-13a2-402c-9deb-498cb900e1ab",
   "metadata": {},
   "outputs": [],
   "source": [
    "import keras"
   ]
  },
  {
   "cell_type": "code",
   "execution_count": null,
   "id": "33c9ebea-54db-40d9-96cc-bc4004e9ecc4",
   "metadata": {},
   "outputs": [],
   "source": [
    "KerasModel = keras.models.Sequential([\n",
    "        keras.layers.Conv2D(200,kernel_size=(3,3),activation='relu',input_shape=(s,s,3)),\n",
    "        keras.layers.Conv2D(150,kernel_size=(3,3),activation='relu'),\n",
    "        keras.layers.MaxPool2D(4,4),\n",
    "        keras.layers.Conv2D(120,kernel_size=(3,3),activation='relu'),    \n",
    "        keras.layers.Conv2D(50,kernel_size=(3,3),activation='relu'),\n",
    "        keras.layers.MaxPool2D(4,4),\n",
    "        keras.layers.Flatten() ,    \n",
    "        keras.layers.Dense(120,activation='relu') ,    \n",
    "        keras.layers.Dense(50,activation='relu') ,        \n",
    "        keras.layers.Dropout(rate=0.5) ,            \n",
    "        keras.layers.Dense(8,activation='softmax') ,    \n",
    "        ])"
   ]
  },
  {
   "cell_type": "code",
   "execution_count": null,
   "id": "9763fe1d-4bf1-444d-a419-3ffd4d41bab0",
   "metadata": {},
   "outputs": [],
   "source": [
    "KerasModel.compile(optimizer ='adam',loss='sparse_categorical_crossentropy',metrics=['accuracy'])"
   ]
  },
  {
   "cell_type": "code",
   "execution_count": null,
   "id": "db89a870-7554-45e9-8993-927044d3d436",
   "metadata": {},
   "outputs": [],
   "source": [
    "print('Model Details are : ')\n",
    "print(KerasModel.summary())"
   ]
  },
  {
   "cell_type": "code",
   "execution_count": null,
   "id": "681cb7a4-f986-4b1e-8d11-c9ce8c68989e",
   "metadata": {},
   "outputs": [],
   "source": [
    "print(f'X_train shape  is {X_emo_train.shape}')\n",
    "print(f'X_test shape  is {X_emo_test.shape}')\n",
    "print(f'y_train shape  is {y_emo_train.shape}')\n",
    "print(f'y_test shape  is {y_emo_test.shape}')"
   ]
  },
  {
   "cell_type": "code",
   "execution_count": null,
   "id": "906e7a36-fed8-4a95-bbc4-d31aa6fa4b61",
   "metadata": {},
   "outputs": [],
   "source": [
    "epochs = 5\n",
    "KerasModel.fit(X_emo_train, y_emo_train, epochs=epochs,batch_size=64,verbose=1)"
   ]
  },
  {
   "cell_type": "code",
   "execution_count": null,
   "id": "69fc45f1-7d4f-44b3-8eaf-4f5fe4888028",
   "metadata": {},
   "outputs": [],
   "source": []
  },
  {
   "cell_type": "code",
   "execution_count": null,
   "id": "95125b69-0348-4eef-b090-4c87df2b2497",
   "metadata": {},
   "outputs": [],
   "source": []
  },
  {
   "cell_type": "code",
   "execution_count": null,
   "id": "2f2c6ff9-b85a-4125-b9db-9e36662308a1",
   "metadata": {},
   "outputs": [],
   "source": []
  },
  {
   "cell_type": "code",
   "execution_count": null,
   "id": "cc25218d-737c-4031-b9be-636abc451576",
   "metadata": {},
   "outputs": [],
   "source": []
  }
 ],
 "metadata": {
  "kernelspec": {
   "display_name": "Python 3 (ipykernel)",
   "language": "python",
   "name": "python3"
  },
  "language_info": {
   "codemirror_mode": {
    "name": "ipython",
    "version": 3
   },
   "file_extension": ".py",
   "mimetype": "text/x-python",
   "name": "python",
   "nbconvert_exporter": "python",
   "pygments_lexer": "ipython3",
   "version": "3.10.13"
  }
 },
 "nbformat": 4,
 "nbformat_minor": 5
}
