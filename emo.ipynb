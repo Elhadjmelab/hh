{
 "cells": [
  {
   "cell_type": "code",
   "execution_count": 2,
   "id": "44b4b104-397d-44db-a73d-3e3bd9f356da",
   "metadata": {},
   "outputs": [
    {
     "name": "stderr",
     "output_type": "stream",
     "text": [
      "C:\\Users\\Lenovo\\AppData\\Local\\Temp\\ipykernel_3744\\2879806208.py:1: DeprecationWarning: \n",
      "Pyarrow will become a required dependency of pandas in the next major release of pandas (pandas 3.0),\n",
      "(to allow more performant data types, such as the Arrow string type, and better interoperability with other libraries)\n",
      "but was not found to be installed on your system.\n",
      "If this would cause problems for you,\n",
      "please provide us feedback at https://github.com/pandas-dev/pandas/issues/54466\n",
      "        \n",
      "  import pandas as pd\n"
     ]
    }
   ],
   "source": [
    "import pandas as pd\n",
    "import numpy as np\n",
    "import matplotlib.pyplot as plt\n",
    "%matplotlib inline\n",
    "import seaborn as sns\n",
    "sns.set(style=\"whitegrid\")\n",
    "import os\n",
    "import glob as gb\n",
    "import cv2\n",
    "import tensorflow as tf\n",
    "import keras"
   ]
  },
  {
   "cell_type": "code",
   "execution_count": 3,
   "id": "dc9fd8c3-9130-4e6d-8fc9-6691c499ac4b",
   "metadata": {},
   "outputs": [
    {
     "name": "stdout",
     "output_type": "stream",
     "text": [
      "Requirement already satisfied: pandas in c:\\users\\lenovo\\anaconda3\\envs\\tensorf\\lib\\site-packages (2.2.0)\n",
      "Requirement already satisfied: numpy<2,>=1.22.4 in c:\\users\\lenovo\\anaconda3\\envs\\tensorf\\lib\\site-packages (from pandas) (1.26.3)\n",
      "Requirement already satisfied: python-dateutil>=2.8.2 in c:\\users\\lenovo\\anaconda3\\envs\\tensorf\\lib\\site-packages (from pandas) (2.8.2)\n",
      "Requirement already satisfied: pytz>=2020.1 in c:\\users\\lenovo\\anaconda3\\envs\\tensorf\\lib\\site-packages (from pandas) (2023.3.post1)\n",
      "Requirement already satisfied: tzdata>=2022.7 in c:\\users\\lenovo\\anaconda3\\envs\\tensorf\\lib\\site-packages (from pandas) (2024.1)\n",
      "Requirement already satisfied: six>=1.5 in c:\\users\\lenovo\\anaconda3\\envs\\tensorf\\lib\\site-packages (from python-dateutil>=2.8.2->pandas) (1.16.0)\n",
      "Note: you may need to restart the kernel to use updated packages.\n"
     ]
    }
   ],
   "source": [
    "pip install pandas\n"
   ]
  },
  {
   "cell_type": "code",
   "execution_count": null,
   "id": "76250ebb-ddf5-4620-a091-2988faab0d46",
   "metadata": {},
   "outputs": [],
   "source": []
  },
  {
   "cell_type": "code",
   "execution_count": 4,
   "id": "950cb329-d8e6-418d-a2fb-84bdc04fcecd",
   "metadata": {},
   "outputs": [],
   "source": [
    "trainpath=\"C:\\\\Users\\\\Lenovo\\\\Desktop\\\\emo\\\\train\\\\\"\n",
    "testpath=\"C:\\\\Users\\\\Lenovo\\\\Desktop\\\\emo\\\\test\\\\\""
   ]
  },
  {
   "cell_type": "code",
   "execution_count": 5,
   "id": "ec327061-761a-44c2-8be9-069add27b812",
   "metadata": {},
   "outputs": [
    {
     "name": "stdout",
     "output_type": "stream",
     "text": [
      "For training data , found 16 in folder Anger\n",
      "For training data , found 16 in folder Contempt\n",
      "For training data , found 16 in folder Disgust\n",
      "For training data , found 16 in folder Fear\n",
      "For training data , found 16 in folder Happy\n",
      "For training data , found 16 in folder Neutral\n",
      "For training data , found 16 in folder Sad\n",
      "For training data , found 16 in folder Surprised\n"
     ]
    }
   ],
   "source": [
    "for folder in  os.listdir(trainpath + 'train') : \n",
    "    files = gb.glob(pathname= str( trainpath +'train//' + folder + '/*.jpg'))\n",
    "    print(f'For training data , found {len(files)} in folder {folder}')"
   ]
  },
  {
   "cell_type": "code",
   "execution_count": 6,
   "id": "22955f29-c7f5-4d51-8270-8376cfea28f8",
   "metadata": {},
   "outputs": [],
   "source": [
    "code = {'Anger':0 ,'Contempt':1,'Fear':2,'Disgust':3,'Happy':4,'Neutral':5,'Sad':6,'Surprised':7}\n",
    "\n",
    "def getcode(n) : \n",
    "    for x , y in code.items() : \n",
    "        if n == y : \n",
    "            return x "
   ]
  },
  {
   "cell_type": "code",
   "execution_count": 7,
   "id": "5ae323ce-9f24-4223-9336-88a856c67fda",
   "metadata": {},
   "outputs": [
    {
     "data": {
      "text/plain": [
       "(3264, 2448, 3)    34\n",
       "(2592, 1944, 3)    19\n",
       "(720, 1280, 3)     13\n",
       "(3888, 3888, 3)     8\n",
       "(4608, 2592, 3)     8\n",
       "(3216, 1448, 3)     8\n",
       "(3280, 2464, 3)     7\n",
       "(1120, 2304, 3)     7\n",
       "(5184, 3880, 3)     7\n",
       "(3408, 2556, 3)     6\n",
       "(3264, 1472, 3)     6\n",
       "(4608, 3456, 3)     5\n",
       "Name: count, dtype: int64"
      ]
     },
     "execution_count": 7,
     "metadata": {},
     "output_type": "execute_result"
    }
   ],
   "source": [
    "size = []\n",
    "for folder in  os.listdir(trainpath +'train') : \n",
    "    files = gb.glob(pathname= str( trainpath +'train//' + folder + '/*.jpg'))\n",
    "    for file in files: \n",
    "        image = plt.imread(file)\n",
    "        size.append(image.shape)\n",
    "pd.Series(size).value_counts()"
   ]
  },
  {
   "cell_type": "code",
   "execution_count": 17,
   "id": "dfc2ac89-4fa4-444f-bcc3-0f7fa4499bde",
   "metadata": {},
   "outputs": [],
   "source": [
    "s=500"
   ]
  },
  {
   "cell_type": "code",
   "execution_count": 18,
   "id": "04718629-ece9-46db-8e72-320cbf6d9254",
   "metadata": {},
   "outputs": [],
   "source": [
    "X_train = []\n",
    "y_train = []\n",
    "for folder in  os.listdir(trainpath +'train') : \n",
    "    files = gb.glob(pathname= str( trainpath +'train//' + folder + '/*.jpg'))\n",
    "    for file in files: \n",
    "        image = cv2.imread(file)\n",
    "        image_array = cv2.resize(image , (s,s))\n",
    "        X_train.append(list(image_array))\n",
    "        y_train.append(code[folder])\n"
   ]
  },
  {
   "cell_type": "code",
   "execution_count": null,
   "id": "f106b631-571a-422c-97ca-09fd69ce5df4",
   "metadata": {},
   "outputs": [],
   "source": []
  },
  {
   "cell_type": "code",
   "execution_count": 19,
   "id": "489220e1-abdc-4c4d-a1dd-d1f3453d8c84",
   "metadata": {},
   "outputs": [
    {
     "name": "stdout",
     "output_type": "stream",
     "text": [
      "we have 128 items in X_train\n"
     ]
    }
   ],
   "source": [
    "print(f'we have {len(X_train)} items in X_train')"
   ]
  },
  {
   "cell_type": "code",
   "execution_count": 20,
   "id": "8699b1ac-38a1-4535-8d09-d3da5c5a9dff",
   "metadata": {},
   "outputs": [
    {
     "name": "stdout",
     "output_type": "stream",
     "text": [
      "we have 128 items in y_train\n"
     ]
    }
   ],
   "source": [
    "print(f'we have {len(y_train)} items in y_train')"
   ]
  },
  {
   "cell_type": "code",
   "execution_count": null,
   "id": "9e7ab414-36a4-47ba-b29b-29188150d855",
   "metadata": {},
   "outputs": [],
   "source": []
  },
  {
   "cell_type": "code",
   "execution_count": 21,
   "id": "b44c4d1e-6b5c-46d8-b60e-c7b8560c2b77",
   "metadata": {},
   "outputs": [],
   "source": [
    "X_test = []\n",
    "y_test = []\n",
    "for folder in  os.listdir(testpath +'test') : \n",
    "    files = gb.glob(pathname= str(testpath + 'test//' + folder + '/*.jpg'))\n",
    "    for file in files: \n",
    "        image = cv2.imread(file)\n",
    "        image_array = cv2.resize(image , (s,s))\n",
    "        X_test.append(list(image_array))\n",
    "        y_test.append(code[folder])\n",
    "        "
   ]
  },
  {
   "cell_type": "code",
   "execution_count": null,
   "id": "6545977c-aadb-4583-b397-3b3df9900956",
   "metadata": {},
   "outputs": [],
   "source": []
  },
  {
   "cell_type": "code",
   "execution_count": 22,
   "id": "b2f870f2-7a4c-448d-8f83-dae109b25a2c",
   "metadata": {},
   "outputs": [
    {
     "name": "stdout",
     "output_type": "stream",
     "text": [
      "X_train shape  is (128, 500, 500, 3)\n",
      "X_test shape  is (24, 500, 500, 3)\n",
      "y_train shape  is (128,)\n",
      "y_test shape  is (24,)\n"
     ]
    }
   ],
   "source": [
    "X_train = np.array(X_train)\n",
    "X_test = np.array(X_test)\n",
    "y_train = np.array(y_train)\n",
    "y_test = np.array(y_test)\n",
    "\n",
    "print(f'X_train shape  is {X_train.shape}')\n",
    "print(f'X_test shape  is {X_test.shape}')\n",
    "print(f'y_train shape  is {y_train.shape}')\n",
    "print(f'y_test shape  is {y_test.shape}')"
   ]
  },
  {
   "cell_type": "code",
   "execution_count": 23,
   "id": "3aefa7fe-9ef0-4d5e-a680-5f5eeab5806e",
   "metadata": {},
   "outputs": [],
   "source": [
    "KerasModel = keras.models.Sequential([\n",
    "        keras.layers.Conv2D(128,kernel_size=(3,3),activation='relu',input_shape=(s,s,3)),\n",
    "        keras.layers.Conv2D(64,kernel_size=(3,3),activation='relu'),\n",
    "        keras.layers.MaxPool2D(4,4),\n",
    "        keras.layers.Conv2D(64,kernel_size=(3,3),activation='relu'),    \n",
    "        keras.layers.MaxPool2D(4,4),\n",
    "        keras.layers.Flatten() ,    \n",
    "        keras.layers.Dense(64,activation='relu') ,    \n",
    "        keras.layers.Dense(32,activation='relu') ,    \n",
    "        keras.layers.Dropout(rate=0.5) ,            \n",
    "        keras.layers.Dense(8,activation='softmax') ,    \n",
    "        ])"
   ]
  },
  {
   "cell_type": "code",
   "execution_count": 24,
   "id": "8329b836-2eb0-4406-a4b8-19af7ca8ffc8",
   "metadata": {},
   "outputs": [],
   "source": [
    "KerasModel.compile(optimizer ='adam',loss='sparse_categorical_crossentropy',metrics=['accuracy'])"
   ]
  },
  {
   "cell_type": "code",
   "execution_count": 25,
   "id": "ecbb037f-f642-4a9b-92e1-c583b3a5272e",
   "metadata": {},
   "outputs": [
    {
     "name": "stdout",
     "output_type": "stream",
     "text": [
      "Model Details are : \n",
      "Model: \"sequential_1\"\n",
      "_________________________________________________________________\n",
      " Layer (type)                Output Shape              Param #   \n",
      "=================================================================\n",
      " conv2d_3 (Conv2D)           (None, 498, 498, 128)     3584      \n",
      "                                                                 \n",
      " conv2d_4 (Conv2D)           (None, 496, 496, 64)      73792     \n",
      "                                                                 \n",
      " max_pooling2d_2 (MaxPooling  (None, 124, 124, 64)     0         \n",
      " 2D)                                                             \n",
      "                                                                 \n",
      " conv2d_5 (Conv2D)           (None, 122, 122, 64)      36928     \n",
      "                                                                 \n",
      " max_pooling2d_3 (MaxPooling  (None, 30, 30, 64)       0         \n",
      " 2D)                                                             \n",
      "                                                                 \n",
      " flatten_1 (Flatten)         (None, 57600)             0         \n",
      "                                                                 \n",
      " dense_3 (Dense)             (None, 64)                3686464   \n",
      "                                                                 \n",
      " dense_4 (Dense)             (None, 32)                2080      \n",
      "                                                                 \n",
      " dropout_1 (Dropout)         (None, 32)                0         \n",
      "                                                                 \n",
      " dense_5 (Dense)             (None, 8)                 264       \n",
      "                                                                 \n",
      "=================================================================\n",
      "Total params: 3,803,112\n",
      "Trainable params: 3,803,112\n",
      "Non-trainable params: 0\n",
      "_________________________________________________________________\n",
      "None\n"
     ]
    }
   ],
   "source": [
    "print('Model Details are : ')\n",
    "print(KerasModel.summary())"
   ]
  },
  {
   "cell_type": "code",
   "execution_count": null,
   "id": "1aea3179-2f83-4d4e-867d-fde2a0a73b39",
   "metadata": {},
   "outputs": [
    {
     "name": "stdout",
     "output_type": "stream",
     "text": [
      "Epoch 1/5\n",
      "1/4 [======>.......................] - ETA: 8:28 - loss: 30.3608 - accuracy: 0.0938"
     ]
    }
   ],
   "source": [
    "epochs = 5\n",
    "ThisModel = KerasModel.fit(X_train, y_train, epochs=epochs,batch_size=32,verbose=1)"
   ]
  },
  {
   "cell_type": "code",
   "execution_count": null,
   "id": "4f6110e4-4f25-471d-8ae8-566dd371e57b",
   "metadata": {},
   "outputs": [],
   "source": []
  },
  {
   "cell_type": "code",
   "execution_count": null,
   "id": "24723d48-c620-4502-be4a-054fd4c2d545",
   "metadata": {},
   "outputs": [],
   "source": []
  }
 ],
 "metadata": {
  "kernelspec": {
   "display_name": "Python 3 (ipykernel)",
   "language": "python",
   "name": "python3"
  },
  "language_info": {
   "codemirror_mode": {
    "name": "ipython",
    "version": 3
   },
   "file_extension": ".py",
   "mimetype": "text/x-python",
   "name": "python",
   "nbconvert_exporter": "python",
   "pygments_lexer": "ipython3",
   "version": "3.10.13"
  }
 },
 "nbformat": 4,
 "nbformat_minor": 5
}
